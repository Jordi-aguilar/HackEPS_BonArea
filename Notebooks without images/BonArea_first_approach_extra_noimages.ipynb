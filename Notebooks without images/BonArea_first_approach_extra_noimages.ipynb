{
  "nbformat": 4,
  "nbformat_minor": 0,
  "metadata": {
    "kernelspec": {
      "display_name": "Python 3",
      "language": "python",
      "name": "python3"
    },
    "language_info": {
      "codemirror_mode": {
        "name": "ipython",
        "version": 3
      },
      "file_extension": ".py",
      "mimetype": "text/x-python",
      "name": "python",
      "nbconvert_exporter": "python",
      "pygments_lexer": "ipython3",
      "version": "3.9.0"
    },
    "colab": {
      "name": "BonArea_first_approach.ipynb",
      "provenance": [],
      "collapsed_sections": []
    }
  },
  "cells": [
    {
      "cell_type": "code",
      "metadata": {
        "id": "U7hryURPzds1"
      },
      "source": [
        "import os\n",
        "import numpy as np\n",
        "import matplotlib\n",
        "import matplotlib.pyplot as plt\n",
        "import matplotlib.colors as colors\n",
        "from skimage import io, transform, morphology, filters, segmentation, measure, color\n",
        "from scipy import ndimage as nd\n",
        "from tqdm import tqdm, notebook\n",
        "from numba import jit\n",
        "from collections import Counter\n",
        "import cv2\n",
        "  \n",
        "def display_image(img, title='', size=None):\n",
        "  #plt.subplot(1,2,1)\n",
        "  plt.gray()\n",
        "  h = plt.imshow(img, interpolation='none')\n",
        "  if size:\n",
        "    dpi = h.figure.get_dpi()/size\n",
        "    h.figure.set_figwidth(img.shape[1] / dpi)\n",
        "    h.figure.set_figheight(img.shape[0] / dpi)\n",
        "    h.figure.canvas.resize(img.shape[1] + 1, img.shape[0] + 1)\n",
        "    h.axes.set_position([0, 0, 1, 1])\n",
        "    h.axes.set_xlim(-1, img.shape[1])\n",
        "    h.axes.set_ylim(img.shape[0], -1)\n",
        "  plt.grid(False)\n",
        "  plt.title(title)  \n",
        "  plt.show()\n",
        "\n",
        "def display_label(img, title='', size=None):\n",
        "  h, ax = plt.subplots()\n",
        "  #ax.imshow(img, cmap=plt.cm.nipy_spectral, interpolation='nearest')\n",
        "  cmap = colors.ListedColormap (np.random.rand (256,3))\n",
        "  ax.imshow(img, cmap=cmap, interpolation='nearest')\n",
        "  if size:\n",
        "    dpi = ax.figure.get_dpi()/size\n",
        "    ax.figure.set_figwidth(img.shape[1] / dpi)\n",
        "    ax.figure.set_figheight(img.shape[0] / dpi)\n",
        "    ax.figure.canvas.resize(img.shape[1] + 1, img.shape[0] + 1)\n",
        "    ax.axes.set_position([0, 0, 1, 1])\n",
        "    ax.axes.set_xlim(-1, img.shape[1])\n",
        "    ax.axes.set_ylim(img.shape[0], -1)\n",
        "  plt.grid(False)\n",
        "  plt.title(title)  \n",
        "  plt.show()"
      ],
      "execution_count": null,
      "outputs": []
    },
    {
      "cell_type": "code",
      "metadata": {
        "id": "vTSRr5mKzjhQ"
      },
      "source": [
        "from google.colab import drive\n",
        "drive.mount('/content/drive')"
      ],
      "execution_count": null,
      "outputs": []
    },
    {
      "cell_type": "code",
      "metadata": {
        "id": "rJpH_7-Mzl6g"
      },
      "source": [
        "!cp -r \"/content/drive/My Drive/HackEPS2020/BonArea/data\" ."
      ],
      "execution_count": null,
      "outputs": []
    },
    {
      "cell_type": "code",
      "metadata": {
        "id": "6M5CGlWXzp37"
      },
      "source": [
        "ima_col = io.imread('data/t485. 08.24.02.jpg')\n",
        "ima = io.imread('data/t485. 08.24.02.jpg',as_gray=True)\n",
        "#ima = transform.resize(ima,np.divide(ima.shape,2).astype(int),mode='reflect') \n",
        "ima = ima/np.amax(ima)\n",
        "display_image(ima,size=1)"
      ],
      "execution_count": null,
      "outputs": []
    },
    {
      "cell_type": "code",
      "metadata": {
        "id": "4CioEUrvzqSc"
      },
      "source": [
        "def MultiResolution(ima, filter, p1, p2):\n",
        "  g0 = ima\n",
        "  if filter == 'gaussian':\n",
        "    g1 = filters.gaussian(g0,sigma=p1)\n",
        "    g2 = filters.gaussian(g1,sigma=p2)\n",
        "  elif filter == 'erosion':\n",
        "    g1 = morphology.erosion(g0,morphology.disk(p1))\n",
        "    g2 = morphology.erosion(g1,morphology.disk(p2))\n",
        "  elif filter == 'dilation':\n",
        "    g1 = morphology.dilation(g0,morphology.disk(p1))\n",
        "    g2 = morphology.dilation(g1,morphology.disk(p2))\n",
        "  elif filter == 'opening':\n",
        "    g1 = morphology.opening(g0,morphology.disk(p1))\n",
        "    g2 = morphology.opening(g1,morphology.disk(p2))\n",
        "  elif filter == 'closing':\n",
        "    g1 = morphology.closing(g0,morphology.disk(p1))\n",
        "    g2 = morphology.closing(g1,morphology.disk(p2))\n",
        "  elif filter == 'alternating':\n",
        "    tm = morphology.opening(g0,morphology.disk(p1))\n",
        "    g1 = morphology.closing(tm,morphology.disk(p1))    \n",
        "    tm = morphology.opening(g1,morphology.disk(p2))\n",
        "    g2 = morphology.closing(tm,morphology.disk(p2))\n",
        "  elif filter == 'opening_rec':\n",
        "    tm = morphology.erosion(g0,morphology.disk(p1))\n",
        "    g1 = morphology.reconstruction(tm,g0,method='dilation')\n",
        "    tm = morphology.erosion(g1,morphology.disk(p2))\n",
        "    g2 = morphology.reconstruction(tm,g1,method='dilation')\n",
        "  elif filter == 'closing_rec':\n",
        "    tm = morphology.dilation(g0,morphology.disk(p1))\n",
        "    g1 = morphology.reconstruction(tm,g0,method='erosion')\n",
        "    tm = morphology.dilation(g1,morphology.disk(p2))\n",
        "    g2 = morphology.reconstruction(tm,g1,method='erosion')\n",
        "  elif filter == 'alternating_rec':\n",
        "    tm = morphology.erosion(g0,morphology.disk(p1))\n",
        "    tn = morphology.reconstruction(tm,g0,method='dilation')\n",
        "    tm = morphology.dilation(tn,morphology.disk(p1))\n",
        "    g1 = morphology.reconstruction(tm,tn,method='erosion')\n",
        "    tm = morphology.erosion(g1,morphology.disk(p2))\n",
        "    tn = morphology.reconstruction(tm,g1,method='dilation')\n",
        "    tm = morphology.dilation(tn,morphology.disk(p2))\n",
        "    g2 = morphology.reconstruction(tm,tn,method='erosion')\n",
        "  else:\n",
        "    print('Unknown filter')\n",
        "  l1 = g0 - g1\n",
        "  l2 = g1 - g2\n",
        "  return l1, l2, g2\n",
        "  "
      ],
      "execution_count": null,
      "outputs": []
    },
    {
      "cell_type": "code",
      "metadata": {
        "id": "y5ZXarKY0UJ_"
      },
      "source": [
        "l1, l2, g2 = MultiResolution(ima,'gaussian',9,9)\n",
        "#display_image(l1,size=1)\n",
        "#display_image(l2,size=1)\n",
        "#display_image(g2,size=1)\n",
        "#display_image(l1+l2+g2,size=1)"
      ],
      "execution_count": null,
      "outputs": []
    },
    {
      "cell_type": "code",
      "metadata": {
        "id": "Xr-J3_nu18I-"
      },
      "source": [
        "grad_img = cv2.Laplacian(ima,cv2.CV_64F)"
      ],
      "execution_count": null,
      "outputs": []
    },
    {
      "cell_type": "code",
      "metadata": {
        "id": "KQzuix9o19kd"
      },
      "source": [
        "display_image(grad_img, size = 1)"
      ],
      "execution_count": null,
      "outputs": []
    },
    {
      "cell_type": "code",
      "metadata": {
        "id": "tvivGOlo2G2N"
      },
      "source": [
        "grad_img.min()"
      ],
      "execution_count": null,
      "outputs": []
    },
    {
      "cell_type": "code",
      "metadata": {
        "id": "c2m1t0BSM6_b"
      },
      "source": [
        "ret,thresh1 = cv2.threshold(grad_img,0.2,1,cv2.THRESH_BINARY)"
      ],
      "execution_count": null,
      "outputs": []
    },
    {
      "cell_type": "code",
      "metadata": {
        "id": "sF3AnMYWNcJA"
      },
      "source": [
        "display_image(thresh1, size = 1)"
      ],
      "execution_count": null,
      "outputs": []
    },
    {
      "cell_type": "markdown",
      "metadata": {
        "id": "oYhHzCLfQ-8x"
      },
      "source": [
        "Apply erosions etc..."
      ]
    },
    {
      "cell_type": "code",
      "metadata": {
        "id": "Mf3buu5rOidh"
      },
      "source": [
        "se1 = np.ones((17,17))"
      ],
      "execution_count": null,
      "outputs": []
    },
    {
      "cell_type": "code",
      "metadata": {
        "id": "x3VxVYLWRbQV"
      },
      "source": [
        "ima_dil = nd.grey_dilation(thresh1,     footprint=se1, mode='constant', cval=0)\n",
        "ima_clo = nd.grey_erosion (ima_dil, footprint=se1, mode='constant', cval=1)"
      ],
      "execution_count": null,
      "outputs": []
    },
    {
      "cell_type": "code",
      "metadata": {
        "id": "k9I_HgYDRhVa"
      },
      "source": [
        "display_image(ima_clo, size = 1)"
      ],
      "execution_count": null,
      "outputs": []
    },
    {
      "cell_type": "markdown",
      "metadata": {
        "id": "JJ2BzUxiTf51"
      },
      "source": [
        "Detectar el frigo"
      ]
    },
    {
      "cell_type": "code",
      "metadata": {
        "id": "cpPnSZ5ddAVN"
      },
      "source": [
        "display_image(thresh1, size = 1)"
      ],
      "execution_count": null,
      "outputs": []
    },
    {
      "cell_type": "code",
      "metadata": {
        "id": "xtf_RV-Ybrhs"
      },
      "source": [
        "lines = transform.probabilistic_hough_line(thresh1, threshold=100, line_length=80, line_gap=3)"
      ],
      "execution_count": null,
      "outputs": []
    },
    {
      "cell_type": "code",
      "metadata": {
        "id": "wIMshnV3cU3F"
      },
      "source": [
        "for line in lines:\n",
        "  p0, p1 = line\n",
        "\n",
        "  plt.plot((p0[0], p1[0]), (-p0[1], -p1[1]))"
      ],
      "execution_count": null,
      "outputs": []
    },
    {
      "cell_type": "markdown",
      "metadata": {
        "id": "MEkfOs5MoTd5"
      },
      "source": [
        "Color segmentation"
      ]
    },
    {
      "cell_type": "code",
      "metadata": {
        "id": "JZE_YCDuUbm8"
      },
      "source": [
        "ima_hsv = color.rgb2hsv(ima_col)"
      ],
      "execution_count": null,
      "outputs": []
    },
    {
      "cell_type": "code",
      "metadata": {
        "id": "2VQhYbS6ql8T"
      },
      "source": [
        "display_image(ima_hsv, size = 1)"
      ],
      "execution_count": null,
      "outputs": []
    },
    {
      "cell_type": "code",
      "metadata": {
        "id": "Fno0nZPWu5-f"
      },
      "source": [
        "mask = np.zeros([ima_hsv.shape[0], ima_hsv.shape[1]])"
      ],
      "execution_count": null,
      "outputs": []
    },
    {
      "cell_type": "code",
      "metadata": {
        "id": "lGeIGB92vJOh"
      },
      "source": [
        "for y in range(mask.shape[0]):\n",
        "  for x in range(mask.shape[1]):\n",
        "    if x < 950 and -0.85*x + 880 < y and -1*x + 1350 > y:\n",
        "      mask[y, x] = 1"
      ],
      "execution_count": null,
      "outputs": []
    },
    {
      "cell_type": "code",
      "metadata": {
        "id": "Ie7QYCBFx6IZ"
      },
      "source": [
        "display_image(np.repeat(mask[:, :, np.newaxis], 3, axis=2)*ima_hsv)"
      ],
      "execution_count": null,
      "outputs": []
    },
    {
      "cell_type": "code",
      "metadata": {
        "id": "6xIlJoqErgDx"
      },
      "source": [
        "def rgb2hsv(image):\n",
        "    new_img = color.rgb2hsv(image)\n",
        "    return new_img\n",
        "\n",
        "\n",
        "def getMaskedPixels(img, mask):\n",
        "    inv_mask = mask #mask*-1 + 1\n",
        "    \n",
        "    img_reshape = img.reshape(img.shape[0]*img.shape[1], 3)\n",
        "    mask_reshape = inv_mask.reshape(inv_mask.shape[0]*inv_mask.shape[1])\n",
        "    \n",
        "    assert img.shape[0]*img.shape[1] == inv_mask.shape[0]*inv_mask.shape[1]\n",
        "    \n",
        "    pixels = np.array([pixel_img for pixel_img, pixel_mask in zip(img_reshape, mask_reshape) if round(pixel_mask) == 1.0])\n",
        "    \n",
        "    return pixels\n",
        "\n",
        "def calculateHist(images, bins = 50, transformation = rgb2hsv):\n",
        "    values_cr_hist = np.zeros(bins)\n",
        "    values_cb_hist = np.zeros(bins)\n",
        "    edges = np.zeros(bins+1)\n",
        "    for idx, image in enumerate(images):\n",
        "        new_img = transformation(image)\n",
        "        masked_image = getMaskedPixels(new_img, mask)\n",
        "        Cr, Cb = masked_image[:,0]*255, masked_image[:,1]*255\n",
        "        Cr_hist = np.histogram(Cr, range = (0, 255), bins = bins)\n",
        "        Cb_hist = np.histogram(Cb, range = (0, 255), bins = bins)\n",
        "        \n",
        "        values_cr_hist += Cr_hist[0]\n",
        "        values_cb_hist += Cb_hist[0]\n",
        "        edges = Cr_hist[1]\n",
        "        \n",
        "    #values_cr_hist[0] = 0\n",
        "    #values_cb_hist[0] = 0\n",
        "    \n",
        "    values_cr_hist /= sum(values_cr_hist)\n",
        "    values_cb_hist /= sum(values_cb_hist)\n",
        "    \n",
        "    \n",
        "    return edges, values_cr_hist, values_cb_hist\n",
        "\n",
        "\n",
        "hists = calculateHist([ima_hsv], bins = 100, transformation = rgb2hsv)\n",
        "edges, values_cr_hist, values_cb_hist = hists"
      ],
      "execution_count": null,
      "outputs": []
    },
    {
      "cell_type": "code",
      "metadata": {
        "id": "4OxHPr77qnQq"
      },
      "source": [
        "plt.figure(figsize=(13,5))\n",
        "plt.subplot(1,2,1)\n",
        "plt.bar(edges[:-1], values_cb_hist)\n",
        "plt.title(\"Saturation\")\n",
        "plt.subplot(1,2,2)\n",
        "plt.bar(edges[:-1], values_cr_hist)\n",
        "plt.title(\"Hue\")\n",
        "plt.show()"
      ],
      "execution_count": null,
      "outputs": []
    },
    {
      "cell_type": "code",
      "metadata": {
        "id": "BoZm0RB107Fa"
      },
      "source": [
        "from numba import jit\n",
        "\n",
        "\n",
        "#Predecir la máscara\n",
        "def predictMask(image, histograms, transformation = rgb2hsv, th = 0.1):\n",
        "    shape = image.shape[:-1]\n",
        "    predict_mask = np.zeros(shape)\n",
        "    new_img = transformation(image)\n",
        "    for i in range(shape[0]):\n",
        "        for j in range(shape[1]):\n",
        "            predict_mask[i,j] = mask_value(new_img[i,j,:], histograms, th)\n",
        "            \n",
        "    return predict_mask\n",
        "\n",
        "@jit\n",
        "def mask_value(pixel, hists, th):\n",
        "    cr = pixel[0]*255\n",
        "    cb = pixel[1]*255\n",
        "    edges, values_cr_hist, values_cb_hist = hists\n",
        "    \n",
        "    cr_value = 0\n",
        "    cb_value = 0\n",
        "    seen_cr = False\n",
        "    seen_cb = False\n",
        "    \n",
        "    for i, edge in enumerate(edges):\n",
        "        if cr < edge and not seen_cr:\n",
        "            cr_value = values_cr_hist[i-1]    #Valor respecto el primer histograma\n",
        "            seen_cr = True\n",
        "        if cb < edge and not seen_cb:\n",
        "            cb_value = values_cb_hist[i-1]    #Valor respecto el segundo histograma\n",
        "            seen_cb = True\n",
        "            \n",
        "    final_value = np.array(values_cr_hist).max()/(cr_value+10e-10)\n",
        "    final_value += np.array(values_cb_hist).max()/(cb_value+10e-10)\n",
        "    final_value = 2/final_value\n",
        "    \n",
        "    #Binarizar\n",
        "    if final_value > th:\n",
        "        final_value = 1\n",
        "    else:\n",
        "        final_value = 0\n",
        "    \n",
        "    return final_value"
      ],
      "execution_count": null,
      "outputs": []
    },
    {
      "cell_type": "code",
      "metadata": {
        "id": "SalH14OT1RyB"
      },
      "source": [
        "mask_pred = predictMask(ima_hsv, hists, transformation = rgb2hsv, th = 0.75)"
      ],
      "execution_count": null,
      "outputs": []
    },
    {
      "cell_type": "code",
      "metadata": {
        "id": "8lq39yg71eqw"
      },
      "source": [
        "display_image(mask_pred, size = 1)"
      ],
      "execution_count": null,
      "outputs": []
    },
    {
      "cell_type": "code",
      "metadata": {
        "id": "LWIHaIdL9n8t"
      },
      "source": [
        "se1 = np.ones((6,6))\n",
        "ima_dil = nd.grey_dilation(mask_pred,     footprint=se1, mode='constant', cval=0)\n",
        "ima_clo = nd.grey_erosion (ima_dil, footprint=se1, mode='constant', cval=1)"
      ],
      "execution_count": null,
      "outputs": []
    },
    {
      "cell_type": "code",
      "metadata": {
        "id": "tKpCZ2FL1j0Y"
      },
      "source": [
        "display_image(ima_clo, size = 1)"
      ],
      "execution_count": null,
      "outputs": []
    },
    {
      "cell_type": "code",
      "metadata": {
        "id": "WQzkMADq9uAU"
      },
      "source": [
        "markers = measure.label(ima_clo,connectivity=2)"
      ],
      "execution_count": null,
      "outputs": []
    },
    {
      "cell_type": "code",
      "metadata": {
        "id": "1_ciWqAlBjd5"
      },
      "source": [
        "count_labels = Counter(markers.flatten())\n",
        "second_most_common_label = count_labels.most_common(2)[1][0]\n",
        "target_area = (markers == second_most_common_label).astype(float)"
      ],
      "execution_count": null,
      "outputs": []
    },
    {
      "cell_type": "code",
      "metadata": {
        "id": "YQApmrWw_lX0"
      },
      "source": [
        "display_image(target_area, size = 1)"
      ],
      "execution_count": null,
      "outputs": []
    },
    {
      "cell_type": "code",
      "metadata": {
        "id": "shX9AcprAlvt"
      },
      "source": [
        "se1 = np.ones((90,90)) \n",
        "target_area_dil = nd.grey_dilation(target_area,     footprint=se1, mode='constant', cval=0)\n",
        "target_area_clo = nd.grey_erosion (target_area_dil, footprint=se1, mode='constant', cval=1)\n",
        "\n",
        "#se2 = np.ones((120,120)) \n",
        "#target_area_dil = nd.grey_dilation(target_area_clo,     footprint=se2, mode='constant', cval=0)"
      ],
      "execution_count": null,
      "outputs": []
    },
    {
      "cell_type": "code",
      "metadata": {
        "id": "C4PZTaIIJf8H"
      },
      "source": [
        "display_image(target_area_dil, size = 1)"
      ],
      "execution_count": null,
      "outputs": []
    },
    {
      "cell_type": "code",
      "metadata": {
        "id": "A03Cuuvdzjiw"
      },
      "source": [
        ""
      ],
      "execution_count": null,
      "outputs": []
    },
    {
      "cell_type": "markdown",
      "metadata": {
        "id": "PXUm8JFcSeUd"
      },
      "source": [
        "Mix Mask with lines"
      ]
    },
    {
      "cell_type": "code",
      "metadata": {
        "id": "MtG6wmhXTT4A"
      },
      "source": [
        "shape = target_area_clo.shape\n",
        "\n",
        "lines_post = []\n",
        "for i in range(len(lines)):\n",
        "  p0, p1 = lines[i]\n",
        "\n",
        "  new_p0 = (p0[0], shape[0]-p0[1])\n",
        "  new_p1 = (p1[0], shape[0]-p1[1])\n",
        "\n",
        "  lines_post.append((new_p0, new_p1))"
      ],
      "execution_count": null,
      "outputs": []
    },
    {
      "cell_type": "code",
      "metadata": {
        "id": "Px9k4BCVanqX"
      },
      "source": [
        "gradients = []\n",
        "intercepts = []\n",
        "\n",
        "def calculate_gradient(p0, p1):\n",
        "  p0 = np.array(p0)\n",
        "  p1 = np.array(p1)\n",
        "  norm = np.linalg.norm(p1-p0)\n",
        "  x_span = p1[0]-p0[0]\n",
        "\n",
        "  return np.arccos(x_span/norm)\n",
        "\n",
        "def calculate_intercept(p0, p1, gradient):\n",
        "  n = -p0[0]*gradient + p0[1]\n",
        "\n",
        "  return n\n",
        "\n",
        "\n",
        "for i, line in enumerate(lines_post):\n",
        "  p0, p1 = line\n",
        "\n",
        "  if target_area_clo[p0[1], p0[0]] == 1 or target_area_clo[p1[1], p1[0]] == 1:\n",
        "    gradient = calculate_gradient(p0, p1)\n",
        "    gradients.append(gradient)\n",
        "\n",
        "    intercepts.append(calculate_intercept(p0, p1, gradient))\n",
        "\n",
        "    plt.plot((p0[0], p1[0]), (p0[1], p1[1]))"
      ],
      "execution_count": null,
      "outputs": []
    },
    {
      "cell_type": "code",
      "metadata": {
        "id": "oHle3U2Gd7A2"
      },
      "source": [
        "hist = plt.hist(gradients, bins = 20)"
      ],
      "execution_count": null,
      "outputs": []
    },
    {
      "cell_type": "code",
      "metadata": {
        "id": "NgSRo-j2fRZ9"
      },
      "source": [
        "max = hist[1][np.argmax(hist[0])]\n",
        "\n",
        "filter = [abs(grad - max) < 0.4 for grad in gradients]\n",
        "gradients_filtered = np.array(gradients)[filter]\n",
        "intercepts_filtered = np.array(intercepts)[filter]"
      ],
      "execution_count": null,
      "outputs": []
    },
    {
      "cell_type": "code",
      "metadata": {
        "id": "fhOLUvMAkGwA"
      },
      "source": [
        "hist_2d = []\n",
        "\n",
        "for g, i in zip(gradients_filtered, intercepts_filtered):\n",
        "  hist_2d.append((g, i))"
      ],
      "execution_count": null,
      "outputs": []
    },
    {
      "cell_type": "code",
      "metadata": {
        "id": "hXlHBATBkWE1"
      },
      "source": [
        "hist = plt.hist2d(gradients_filtered, intercepts_filtered, bins = 20)"
      ],
      "execution_count": null,
      "outputs": []
    },
    {
      "cell_type": "code",
      "metadata": {
        "id": "qWAF9EOqnQ1P"
      },
      "source": [
        "ret,hist_bin = cv2.threshold(hist[0],0.1,1,cv2.THRESH_BINARY)"
      ],
      "execution_count": null,
      "outputs": []
    },
    {
      "cell_type": "code",
      "metadata": {
        "id": "8hk5-GdFl_KN"
      },
      "source": [
        "display_label(measure.label(hist_bin, connectivity=1))"
      ],
      "execution_count": null,
      "outputs": []
    },
    {
      "cell_type": "code",
      "metadata": {
        "id": "dC3_P1evebvS"
      },
      "source": [
        ""
      ],
      "execution_count": null,
      "outputs": []
    },
    {
      "cell_type": "markdown",
      "metadata": {
        "id": "A06jXVvQqJ-2"
      },
      "source": [
        "Remat"
      ]
    },
    {
      "cell_type": "code",
      "metadata": {
        "id": "pQMLteNjqKzh"
      },
      "source": [
        "def read_ima(path):\n",
        "  ima_col = io.imread(path)\n",
        "  ima = io.imread(path,as_gray=True)\n",
        "  #ima = transform.resize(ima,np.divide(ima.shape,2).astype(int),mode='reflect') \n",
        "  ima = ima/np.amax(ima)\n",
        "\n",
        "  return ima, ima_col\n",
        "\n",
        "def get_empty(ima):\n",
        "  grad_img = cv2.Laplacian(ima,cv2.CV_64F)\n",
        "\n",
        "  ret,thresh1 = cv2.threshold(grad_img,0.2,1,cv2.THRESH_BINARY)\n",
        "\n",
        "  se1 = np.ones((17,17))\n",
        "  ima_dil = nd.grey_dilation(thresh1,     footprint=se1, mode='constant', cval=0)\n",
        "  ima_clo = nd.grey_erosion (ima_dil, footprint=se1, mode='constant', cval=1)\n",
        "\n",
        "  return ima_clo\n",
        "\n",
        "def get_mask(ima_col):\n",
        "  ima_hsv = color.rgb2hsv(ima_col)\n",
        "  mask_pred = predictMask(ima_hsv, hists, transformation = rgb2hsv, th = 0.75)\n",
        "  se1 = np.ones((6,6))\n",
        "  ima_dil = nd.grey_dilation(mask_pred,     footprint=se1, mode='constant', cval=0)\n",
        "  ima_clo = nd.grey_erosion (ima_dil, footprint=se1, mode='constant', cval=1)\n",
        "\n",
        "  markers = measure.label(ima_clo,connectivity=2)\n",
        "  count_labels = Counter(markers.flatten())\n",
        "  second_most_common_label = count_labels.most_common(2)[1][0]\n",
        "  target_area = (markers == second_most_common_label).astype(float)\n",
        "\n",
        "  se1 = np.ones((90,90)) \n",
        "  target_area_dil = nd.grey_dilation(target_area,     footprint=se1, mode='constant', cval=0)\n",
        "  target_area_clo = nd.grey_erosion (target_area_dil, footprint=se1, mode='constant', cval=1)\n",
        "\n",
        "  #se2 = np.ones((80,80)) \n",
        "  #target_area_dil = nd.grey_dilation(target_area_clo,     footprint=se2, mode='constant', cval=0)\n",
        "\n",
        "  return target_area_clo\n",
        "\n",
        "def predict_empty(ima_col, prediction):\n",
        "  labels_pred = measure.label(prediction, background = 1, connectivity=2)\n",
        "  labels_pred_counter = Counter(labels_pred.flatten())\n",
        "\n",
        "  background = labels_pred_counter.most_common(1)[0][0]\n",
        "  shelf = labels_pred_counter.most_common(2)[1][0]\n",
        "\n",
        "  #get empty slots\n",
        "  empty_slots = []\n",
        "  for value, count in labels_pred_counter.items():\n",
        "    if value not in (background, shelf):\n",
        "      if count > 100:\n",
        "        empty_slots.append(value)\n",
        "        \n",
        "  #paint empty slots red and background white  \n",
        "  labels_pred_red = np.repeat(labels_pred.copy()[:, :, np.newaxis] , 3, axis=2)\n",
        "  for i in range(labels_pred_red.shape[0]):\n",
        "    for j in range(labels_pred_red.shape[1]):\n",
        "      if labels_pred[i,j] in empty_slots:\n",
        "        labels_pred_red[i,j,:] = [255,0,0]\n",
        "      else:\n",
        "        labels_pred_red[i,j,:] = [255,255,255]\n",
        "        \n",
        "  #Blurring  \n",
        "  labels_pred_red_blur = cv2.blur(labels_pred_red,(60,60))\n",
        "\n",
        "  #Merge original image with mask with red slots \n",
        "  ima_col_final = ima_col.copy()\n",
        "  for i in range(labels_pred_red.shape[0]):\n",
        "    for j in range(labels_pred_red.shape[1]):\n",
        "      if labels_pred[i,j] in empty_slots:\n",
        "        ima_col_final[i,j,:] = labels_pred_red_blur[i,j]\n",
        "\n",
        "  return ima_col_final"
      ],
      "execution_count": null,
      "outputs": []
    },
    {
      "cell_type": "code",
      "metadata": {
        "id": "Kpxyau_bwKD5"
      },
      "source": [
        "path = 'data/t485. 08.24.02.jpg'"
      ],
      "execution_count": null,
      "outputs": []
    },
    {
      "cell_type": "code",
      "metadata": {
        "id": "yUgCBc1LwQXS"
      },
      "source": [
        "ima, ima_col = read_ima(path)\n",
        "empty = get_empty(ima)\n",
        "mask_target = get_mask(ima_col)\n",
        "prediction = predict_empty(ima_col, empty*mask_target)"
      ],
      "execution_count": null,
      "outputs": []
    },
    {
      "cell_type": "code",
      "metadata": {
        "id": "SYLrLbjdwakw"
      },
      "source": [
        "display_image(prediction, size = 1)"
      ],
      "execution_count": null,
      "outputs": []
    },
    {
      "cell_type": "code",
      "metadata": {
        "id": "SpLhB1-aUclj"
      },
      "source": [
        "def BonArea_algorithm(path):\n",
        "  ima, ima_col = read_ima(path)\n",
        "  empty = get_empty(ima)\n",
        "  mask_target = get_mask(ima_col)\n",
        "  prediction = predict_empty(ima_col, empty*mask_target)\n",
        "\n",
        "  return prediction"
      ],
      "execution_count": null,
      "outputs": []
    },
    {
      "cell_type": "code",
      "metadata": {
        "id": "AG2jDtDfUWUt"
      },
      "source": [
        "import os\n",
        "\n",
        "input_path = \"./data/\"\n",
        "output_path = \"./drive/MyDrive/HackEPS2020/BonArea/predictions/\"\n",
        "\n",
        "files = os.listdir(input_path)\n",
        "\n",
        "for file in files:\n",
        "  print(\"Processing file \", file)\n",
        "  prediction = BonArea_algorithm(input_path + file)\n",
        "  \n",
        "  plt.imsave(output_path + \"out_\" + file, prediction)\n"
      ],
      "execution_count": null,
      "outputs": []
    },
    {
      "cell_type": "code",
      "metadata": {
        "id": "tt-okliWUWYZ"
      },
      "source": [
        ""
      ],
      "execution_count": null,
      "outputs": []
    },
    {
      "cell_type": "code",
      "metadata": {
        "id": "6JEyFBIhUWeC"
      },
      "source": [
        ""
      ],
      "execution_count": null,
      "outputs": []
    },
    {
      "cell_type": "code",
      "metadata": {
        "id": "ZB6D_fCAUWiN"
      },
      "source": [
        ""
      ],
      "execution_count": null,
      "outputs": []
    },
    {
      "cell_type": "code",
      "metadata": {
        "id": "phkJ4ICHUWpc"
      },
      "source": [
        ""
      ],
      "execution_count": null,
      "outputs": []
    },
    {
      "cell_type": "code",
      "metadata": {
        "id": "3Fe1DvQRUWno"
      },
      "source": [
        ""
      ],
      "execution_count": null,
      "outputs": []
    },
    {
      "cell_type": "code",
      "metadata": {
        "id": "MSM-V1c_UWli"
      },
      "source": [
        ""
      ],
      "execution_count": null,
      "outputs": []
    },
    {
      "cell_type": "code",
      "metadata": {
        "id": "G5e_NIGvUWb3"
      },
      "source": [
        ""
      ],
      "execution_count": null,
      "outputs": []
    },
    {
      "cell_type": "code",
      "metadata": {
        "id": "Y3WfOFXuUWRk"
      },
      "source": [
        ""
      ],
      "execution_count": null,
      "outputs": []
    },
    {
      "cell_type": "code",
      "metadata": {
        "id": "iYNbPU8wwdOJ"
      },
      "source": [
        "display_image(mask_target * empty)"
      ],
      "execution_count": null,
      "outputs": []
    },
    {
      "cell_type": "code",
      "metadata": {
        "id": "1NTTTSaf3v1P"
      },
      "source": [
        "prediction = mask_target * empty"
      ],
      "execution_count": null,
      "outputs": []
    },
    {
      "cell_type": "code",
      "metadata": {
        "id": "CfLveWIR3v9J"
      },
      "source": [
        "display_image(prediction)"
      ],
      "execution_count": null,
      "outputs": []
    },
    {
      "cell_type": "code",
      "metadata": {
        "id": "OqQGhAC03wFz"
      },
      "source": [
        "labels_pred = measure.label(prediction, background = 1, connectivity=2)"
      ],
      "execution_count": null,
      "outputs": []
    },
    {
      "cell_type": "code",
      "metadata": {
        "id": "R-pQ5nH-3wML"
      },
      "source": [
        "labels_pred_counter = Counter(labels_pred.flatten())"
      ],
      "execution_count": null,
      "outputs": []
    },
    {
      "cell_type": "code",
      "metadata": {
        "id": "XFaN2jfK3wO2"
      },
      "source": [
        "background = labels_pred_counter.most_common(1)[0][0]\n",
        "shelf = labels_pred_counter.most_common(2)[1][0]"
      ],
      "execution_count": null,
      "outputs": []
    },
    {
      "cell_type": "code",
      "metadata": {
        "id": "Dt0U683S4a7J"
      },
      "source": [
        "empty_slots = []\n",
        "for value, count in labels_pred_counter.items():\n",
        "  if value not in (background, shelf):\n",
        "    if count > 100:\n",
        "      empty_slots.append(value)"
      ],
      "execution_count": null,
      "outputs": []
    },
    {
      "cell_type": "code",
      "metadata": {
        "id": "KhC-5GKE3wSG"
      },
      "source": [
        "labels_pred_red = np.repeat(labels_pred.copy()[:, :, np.newaxis] , 3, axis=2)\n",
        "for i in range(labels_pred_red.shape[0]):\n",
        "  for j in range(labels_pred_red.shape[1]):\n",
        "    if labels_pred[i,j] in empty_slots:\n",
        "      labels_pred_red[i,j,:] = [255,0,0]\n",
        "    else:\n",
        "      labels_pred_red[i,j,:] = [255,255,255]"
      ],
      "execution_count": null,
      "outputs": []
    },
    {
      "cell_type": "code",
      "metadata": {
        "id": "kNOYH0pe6xor"
      },
      "source": [
        "labels_pred_red_blur = cv2.blur(labels_pred_red,(60,60))"
      ],
      "execution_count": null,
      "outputs": []
    },
    {
      "cell_type": "code",
      "metadata": {
        "id": "qxscUTn19HIP"
      },
      "source": [
        "display_image(labels_pred_red_blur)"
      ],
      "execution_count": null,
      "outputs": []
    },
    {
      "cell_type": "code",
      "metadata": {
        "id": "41TPtvRL3wW4"
      },
      "source": [
        "ima_col_final = ima_col.copy()\n",
        "for i in range(labels_pred_red.shape[0]):\n",
        "  for j in range(labels_pred_red.shape[1]):\n",
        "    if labels_pred[i,j] in empty_slots:\n",
        "      ima_col_final[i,j,:] = labels_pred_red_blur[i,j]"
      ],
      "execution_count": null,
      "outputs": []
    },
    {
      "cell_type": "code",
      "metadata": {
        "id": "bqt46oxs3wbn"
      },
      "source": [
        "display_image(ima_col_final, size = 1)"
      ],
      "execution_count": null,
      "outputs": []
    },
    {
      "cell_type": "code",
      "metadata": {
        "id": "IZ700h0r3wZ8"
      },
      "source": [
        ""
      ],
      "execution_count": null,
      "outputs": []
    },
    {
      "cell_type": "code",
      "metadata": {
        "id": "3qiXqwDU3wVY"
      },
      "source": [
        ""
      ],
      "execution_count": null,
      "outputs": []
    },
    {
      "cell_type": "code",
      "metadata": {
        "id": "kSwRxUSQwegp"
      },
      "source": [
        "ima, ima_col = read_ima(path)\n",
        "################################################\n",
        "ima_mirror = np.flip(ima, axis = 1)            # Mirrored image\n",
        "ima_col_mirror = np.flip(ima_col, axis = 1)    # Mirrored image\n",
        "################################################\n",
        "empty = get_empty(ima_mirror)\n",
        "mask_target = get_mask(ima_col_mirror)\n",
        "prediction = predict_empty(ima_col_mirror, empty*mask_target)"
      ],
      "execution_count": null,
      "outputs": []
    },
    {
      "cell_type": "code",
      "metadata": {
        "id": "2GxEsy4TjwSA"
      },
      "source": [
        "display_image(ima_col, size = 1)"
      ],
      "execution_count": null,
      "outputs": []
    },
    {
      "cell_type": "code",
      "metadata": {
        "id": "r_q7mD7C07N5"
      },
      "source": [
        "display_image(prediction, size = 1)"
      ],
      "execution_count": null,
      "outputs": []
    },
    {
      "cell_type": "code",
      "metadata": {
        "id": "1dI8ii4E2YG8"
      },
      "source": [
        ""
      ],
      "execution_count": null,
      "outputs": []
    }
  ]
}